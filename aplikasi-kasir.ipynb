{
  "metadata": {
    "language_info": {
      "codemirror_mode": {
        "name": "python",
        "version": 3
      },
      "file_extension": ".py",
      "mimetype": "text/x-python",
      "name": "python",
      "nbconvert_exporter": "python",
      "pygments_lexer": "ipython3",
      "version": "3.8"
    },
    "kernelspec": {
      "name": "python",
      "display_name": "Python (Pyodide)",
      "language": "python"
    }
  },
  "nbformat_minor": 4,
  "nbformat": 4,
  "cells": [
    {
      "cell_type": "code",
      "source": "import sqlite3\n\nclass Transaction:\n    def __init__(self):\n        self.transaction_data = []\n        self.discount = 0\n\n    def add_item(self, item_name, item_qty, item_price):\n        item_total_price = item_qty * item_price\n        self.transaction_data.append([item_name, item_qty, item_price, item_total_price])\n\n    def update_item_name(self, old_name, new_name):\n        for item in self.transaction_data:\n            if item[0] == old_name:\n                item[0] = new_name\n\n    def update_item_qty(self, item_name, new_qty):\n        for item in self.transaction_data:\n            if item[0] == item_name:\n                item[1] = new_qty\n                item[3] = new_qty * item[2]\n\n    def update_item_price(self, item_name, new_price):\n        for item in self.transaction_data:\n            if item[0] == item_name:\n                item[2] = new_price\n                item[3] = item[1] * new_price\n\n    def delete_item(self, item_name):\n        self.transaction_data = [item for item in self.transaction_data if item[0] != item_name]\n\n    def reset_transaction(self):\n        self.transaction_data = []\n\n    def check_order(self):\n        if all(all(item) for item in self.transaction_data):\n            return \"Pemesanan sudah benar\"\n        else:\n            return \"Terdapat kesalahan input data\"\n\n    def check_out(self):\n        if not self.transaction_data:\n            return \"Tidak ada transaksi untuk check-out\"\n\n        total_price = sum(item[3] for item in self.transaction_data)\n        self.calculate_discount(total_price)\n\n        print(\"| No | Nama Item | Jumlah Item | Harga/Item | Total Harga |\")\n        print(\"|----|-----------|-------------|------------|-------------|\")\n        for i, item in enumerate(self.transaction_data, start=1):\n            print(f\"| {i}  | {item[0]}  | {item[1]}           | {item[2]}      | {item[3]}      |\")\n\n        print(f\"\\nTotal Harga = Rp{total_price}\")\n        print(f\"Diskon {self.discount * 100}% = Rp{total_price * self.discount}\")\n        print(f\"Total Pembayaran = Rp{total_price - (total_price * self.discount)}\")\n\n      \n\n    def calculate_discount(self, total_price):\n        if total_price > 500000:\n            self.discount = 0.07\n        elif total_price > 300000:\n            self.discount = 0.06\n        elif total_price > 200000:\n            self.discount = 0.05\n\n    def insert_to_table(self, source_data):\n        conn = sqlite3.connect('supermarket.db')\n        cursor = conn.cursor()\n\n        for item in source_data:\n            nama_item, jumlah_item, harga, total_harga = item\n            diskon = self.discount * 100\n            harga_diskon = harga - (harga * self.discount)\n          \n\n        conn.commit()\n        conn.close()\n\n\n# Inisialisasi transaksi\ntrnsct_123 = Transaction()",
      "metadata": {
        "trusted": true
      },
      "execution_count": 1,
      "outputs": []
    },
    {
      "cell_type": "code",
      "source": "",
      "metadata": {},
      "execution_count": null,
      "outputs": []
    }
  ]
}